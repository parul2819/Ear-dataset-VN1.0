{
 "cells": [
  {
   "cell_type": "code",
   "execution_count": 2,
   "id": "288c2ad4",
   "metadata": {},
   "outputs": [],
   "source": [
    "import keras\n",
    "from keras.preprocessing.image import ImageDataGenerator, load_img\n",
    "from sklearn.model_selection import train_test_split"
   ]
  },
  {
   "cell_type": "code",
   "execution_count": 3,
   "id": "24df8cad",
   "metadata": {},
   "outputs": [],
   "source": [
    "#Importing a single image\n",
    "\n",
    "single_img = load_img('E:/Ph.D/Datasets/yws3v3mwx3-4/EarVN1.0 dataset/EarVN1.0dataset/Images/001.ALI_HD/001 (1).jpg')"
   ]
  },
  {
   "cell_type": "code",
   "execution_count": 3,
   "id": "76bc90f3",
   "metadata": {},
   "outputs": [
    {
     "data": {
      "image/png": "[encoded data removed]",
      "text/plain": [
       "<PIL.JpegImagePlugin.JpegImageFile image mode=RGB size=35x54 at 0x1E57FBD4DF0>"
      ]
     },
     "execution_count": 3,
     "metadata": {},
     "output_type": "execute_result"
    }
   ],
   "source": [
    "single_img"
   ]
  },
  {
   "cell_type": "code",
   "execution_count": 4,
   "id": "d91a5f79",
   "metadata": {},
   "outputs": [],
   "source": [
    "# Preprocessing the Training set\n",
    "train_datagen = ImageDataGenerator(rescale = 1./255,\n",
    "                                   shear_range = 0.2,\n",
    "                                   zoom_range = 0.2,\n",
    "                                   horizontal_flip = True,\n",
    "                                  validation_split=0.25)"
   ]
  },
  {
   "cell_type": "code",
   "execution_count": 5,
   "id": "a3b6482b",
   "metadata": {},
   "outputs": [
    {
     "name": "stdout",
     "output_type": "stream",
     "text": [
      "Found 21347 images belonging to 164 classes.\n",
      "Found 7065 images belonging to 164 classes.\n"
     ]
    }
   ],
   "source": [
    "# Splitting dataset into training and test data\n",
    "\n",
    "training_set = train_datagen.flow_from_directory('E:/Ph.D/Datasets/yws3v3mwx3-4/EarVN1.0 dataset/EarVN1.0dataset/Images',\n",
    "                                                 target_size = (64, 64),\n",
    "                                                 batch_size = 32,\n",
    "                                                subset='training')\n",
    " \n",
    "test_set = train_datagen.flow_from_directory('E:/Ph.D/Datasets/yws3v3mwx3-4/EarVN1.0 dataset/EarVN1.0dataset/Images',\n",
    "                                                 target_size = (64, 64),\n",
    "                                                 batch_size = 32,\n",
    "                                             subset='validation')"
   ]
  },
  {
   "cell_type": "code",
   "execution_count": null,
   "id": "2c8e04da",
   "metadata": {},
   "outputs": [],
   "source": [
    "'''\n",
    "Total - 28412 images, without splitting\n",
    "Found 21347 images belonging to 164 classes.\n",
    "Found 7065 images belonging to 164 classes.\n",
    "'''"
   ]
  },
  {
   "cell_type": "code",
   "execution_count": null,
   "id": "439dc61e",
   "metadata": {},
   "outputs": [],
   "source": []
  }
 ],
 "metadata": {
  "kernelspec": {
   "display_name": "Python 3 (ipykernel)",
   "language": "python",
   "name": "python3"
  },
  "language_info": {
   "codemirror_mode": {
    "name": "ipython",
    "version": 3
   },
   "file_extension": ".py",
   "mimetype": "text/x-python",
   "name": "python",
   "nbconvert_exporter": "python",
   "pygments_lexer": "ipython3",
   "version": "3.9.7"
  }
 },
 "nbformat": 4,
 "nbformat_minor": 5
}
